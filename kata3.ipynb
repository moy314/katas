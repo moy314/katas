{
 "cells": [
  {
   "cell_type": "code",
   "execution_count": 1,
   "metadata": {},
   "outputs": [
    {
     "name": "stdout",
     "output_type": "stream",
     "text": [
      "ADVERTENCIA se acerca un asteoride\n"
     ]
    }
   ],
   "source": [
    "# Añadir el código necesario para crear una variable que guarde la velocidad del asteroide.\n",
    "# Escribe una expresión de prueba para calcular si necesita una advertencia.\n",
    "# Agregue las instrucciones que se ejecutarán si la expresión de prueba es true o false.\n",
    "\n",
    "\n",
    "velocidad =  49 \n",
    "\n",
    "if velocidad >= 25:\n",
    "    print(\"ADVERTENCIA se acerca un asteoride\")"
   ]
  },
  {
   "cell_type": "code",
   "execution_count": 3,
   "metadata": {},
   "outputs": [
    {
     "name": "stdout",
     "output_type": "stream",
     "text": [
      "la velociadad del asteoride es menor a 19 km/s\n"
     ]
    }
   ],
   "source": [
    "# Agrega el código para crear una variable para un asteroide que viaja a 19 km/s\n",
    "# Escribe varias expresiones de prueba para determinar si puedes ver el rayo de luz desde la tierra\n",
    "# Agrega las instrucciones que se ejecutarán si las expresiones de prueba son True o False\n",
    "\n",
    "\n",
    "velocidad2 = 19\n",
    "\n",
    "if velocidad2 >= 20:\n",
    "    print(\"mira hacia arriba, hay un asteoride entrando a la tierra!\")\n",
    "    \n",
    "else:\n",
    "    print(\"la velociadad del asteoride es menor a 19 km/s\")"
   ]
  },
  {
   "cell_type": "code",
   "execution_count": 4,
   "metadata": {},
   "outputs": [
    {
     "name": "stdout",
     "output_type": "stream",
     "text": [
      "mira hacia arriba, hay un asteoride entrando a la tierra!\n"
     ]
    }
   ],
   "source": [
    "# Agrega el código para crear nuevas variables para la velocidad y el tamaño del asteroide\n",
    "# Para probar el código, prueba con varias velocidades y tamaños\n",
    "# Escribe varias expresiones de prueba o combinaciones de expresiones de prueba para determinar qué mensaje se debe enviar a Tierra.\n",
    "\n",
    "velocidad3 = 25\n",
    "tamano = 40\n",
    "\n",
    "if velocidad3 > 25 and tamano > 25:\n",
    "    print(\"ALERTA, Un asteroide muy peligroso viene hacia la Tierra!\")\n",
    "elif velocidad3 >= 20:\n",
    "    print('mira hacia arriba, hay un asteoride entrando a la tierra!')\n",
    "elif tamano < 25:\n",
    "    print('todo está en orden')\n",
    "else:\n",
    "    print('todo está en orden')"
   ]
  }
 ],
 "metadata": {
  "interpreter": {
   "hash": "888a725ea54d8a99c14e4cfbabe70bcba6b39427fa08860230f3a6680cc1caad"
  },
  "kernelspec": {
   "display_name": "Python 3.9.10 64-bit (windows store)",
   "language": "python",
   "name": "python3"
  },
  "language_info": {
   "codemirror_mode": {
    "name": "ipython",
    "version": 3
   },
   "file_extension": ".py",
   "mimetype": "text/x-python",
   "name": "python",
   "nbconvert_exporter": "python",
   "pygments_lexer": "ipython3",
   "version": "3.9.10"
  },
  "orig_nbformat": 4
 },
 "nbformat": 4,
 "nbformat_minor": 2
}
