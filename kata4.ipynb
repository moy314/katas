{
 "cells": [
  {
   "cell_type": "code",
   "execution_count": 15,
   "metadata": {},
   "outputs": [
    {
     "name": "stdout",
     "output_type": "stream",
     "text": [
      "\",\n",
      "        \"On average, the Moon moves 4cm away from the Earth every year\n",
      " The highest daylight temperature of the Moon is 127 celcius\n",
      " The highest daylight temperature of the Moon is 127 C\n",
      " The highest daylight temperature of the Moon is 127 celcius\n"
     ]
    }
   ],
   "source": [
    "text = \"\"\"Interesting facts about the Moon. The Moon is Earth's only satellite. There are several interesting facts about the Moon and how it affects life here on Earth.\",\n",
    "        \"On average, the Moon moves 4cm away from the Earth every year. This yearly drift is not significant enough to cause immediate effects on Earth. The highest daylight temperature of the Moon is 127 C\"\"\"\n",
    "        \n",
    "claves = [\"average\", \"temperature\", \"distance\"]\n",
    "        \n",
    "oraciones = text.split(\".\")\n",
    "\n",
    "\n",
    "#print(oraciones)\n",
    "#print(len(oraciones))\n",
    "        \n",
    "for oracion in oraciones:\n",
    "    for clave in claves:\n",
    "        if clave in oracion:\n",
    "            print(oracion)\n",
    "        elif \"C\" in oracion:\n",
    "            print(oracion.replace(\"C\",\"celcius\"))\n",
    "    \n",
    "    "
   ]
  }
 ],
 "metadata": {
  "interpreter": {
   "hash": "888a725ea54d8a99c14e4cfbabe70bcba6b39427fa08860230f3a6680cc1caad"
  },
  "kernelspec": {
   "display_name": "Python 3.9.10 64-bit (windows store)",
   "language": "python",
   "name": "python3"
  },
  "language_info": {
   "codemirror_mode": {
    "name": "ipython",
    "version": 3
   },
   "file_extension": ".py",
   "mimetype": "text/x-python",
   "name": "python",
   "nbconvert_exporter": "python",
   "pygments_lexer": "ipython3",
   "version": "3.9.10"
  },
  "orig_nbformat": 4
 },
 "nbformat": 4,
 "nbformat_minor": 2
}
