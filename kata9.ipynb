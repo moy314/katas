{
 "cells": [
  {
   "cell_type": "code",
   "execution_count": 4,
   "metadata": {},
   "outputs": [
    {
     "name": "stdout",
     "output_type": "stream",
     "text": [
      "porcentaje tanque 1:55. porcentaje tanque 2: 70. pocentaje tanque 3: 87. promedio: 70.66666666666667\n"
     ]
    }
   ],
   "source": [
    "# Función para leer 3 tanques de combustible y muestre el promedio\n",
    "# Llamamos a la función que genera el reporte print(funcion(tanque1, tanque2, tanque3))\n",
    "\n",
    "def tanques(tanque1,tanque2,tanque3):\n",
    "    \n",
    "    promedioTanques =  (tanque1 + tanque2 + tanque3) / 3\n",
    "    \n",
    "    return f\"porcentaje tanque 1: {tanque1}. porcentaje tanque 2:{tanque2}. pocentaje tanque 3: {tanque3}. promedio: {promedioTanques}\"\n",
    "\n",
    "print(tanques(55,70,87))"
   ]
  },
  {
   "cell_type": "code",
   "execution_count": 8,
   "metadata": {},
   "outputs": [
    {
     "data": {
      "text/plain": [
       "82.0"
      ]
     },
     "execution_count": 8,
     "metadata": {},
     "output_type": "execute_result"
    }
   ],
   "source": [
    "# Función promedio \n",
    "def promedio(values):\n",
    "    total = sum(values)\n",
    "    numeroTanques = len(values)\n",
    "    return total / numeroTanques\n",
    "\n",
    "# Test the averaging function with a list of integers:\n",
    "promedio([80, 85, 81]) "
   ]
  },
  {
   "cell_type": "code",
   "execution_count": 11,
   "metadata": {},
   "outputs": [
    {
     "name": "stdout",
     "output_type": "stream",
     "text": [
      "porcentaje tanque 1: 55. porcentaje tanque 2:70. pocentaje tanque 3: 87. promedio: 70.66666666666667\n"
     ]
    }
   ],
   "source": [
    "def promedio(values):\n",
    "    total = sum(values)\n",
    "    numeroTanques = len(values)\n",
    "    return total / numeroTanques\n",
    "\n",
    "\n",
    "def tanques(tanque1,tanque2,tanque3,promedio):\n",
    "    \n",
    "    promedioTanques =  promedio([tanque1,tanque2,tanque3])\n",
    "    \n",
    "    return f\"porcentaje tanque 1: {tanque1}. porcentaje tanque 2:{tanque2}. pocentaje tanque 3: {tanque3}. promedio: {promedioTanques}\"\n",
    "\n",
    "print(tanques(55,70,87,promedio))"
   ]
  },
  {
   "cell_type": "code",
   "execution_count": null,
   "metadata": {},
   "outputs": [],
   "source": []
  },
  {
   "cell_type": "code",
   "execution_count": 17,
   "metadata": {},
   "outputs": [
    {
     "name": "stdout",
     "output_type": "stream",
     "text": [
      "Mision: Moon. tiempo de total viaje: 5000 minutos combustible total: 500000\n"
     ]
    }
   ],
   "source": [
    "def reporte(prelanzamiento, timepo_vuelo, destino, tanque_externo,tanque_principal):\n",
    "    return f\"Mision: {destino} tiempo de total viaje: {prelanzamiento + timepo_vuelo} minutoscombustible total: {tanque_externo + tanque_principal} \"\n",
    "\n",
    "print(reporte( \"Moon\",5000, 200000, 300000))\n",
    "\n"
   ]
  },
  {
   "cell_type": "code",
   "execution_count": 20,
   "metadata": {},
   "outputs": [
    {
     "name": "stdout",
     "output_type": "stream",
     "text": [
      "Mision: Moon. tiempo de total viaje: 5000 minutos combustible total: 500000 tanque principal; fuel 200000 tanque externo; fuel 300000\n"
     ]
    }
   ],
   "source": [
    "# Escribe tu nueva función de reporte considerando lo anterior\n",
    "\n",
    "def reporte( destino,*minutos,**combustible):\n",
    "    reporte = f\"Mision: {destino}. tiempo de total viaje: {sum(minutos)} minutos combustible total: {sum(combustible.values())}\"\n",
    "    for tanque,fuel in combustible.items():\n",
    "        reporte += f\" tanque {tanque}; fuel {fuel}\"\n",
    "    return reporte\n",
    "print(reporte( \"Moon\",5000, principal = 200000, externo=300000))\n",
    "\n",
    "\n",
    "\n",
    "\n",
    "    \n",
    "    \n",
    "     "
   ]
  }
 ],
 "metadata": {
  "interpreter": {
   "hash": "888a725ea54d8a99c14e4cfbabe70bcba6b39427fa08860230f3a6680cc1caad"
  },
  "kernelspec": {
   "display_name": "Python 3.9.10 64-bit (windows store)",
   "language": "python",
   "name": "python3"
  },
  "language_info": {
   "codemirror_mode": {
    "name": "ipython",
    "version": 3
   },
   "file_extension": ".py",
   "mimetype": "text/x-python",
   "name": "python",
   "nbconvert_exporter": "python",
   "pygments_lexer": "ipython3",
   "version": "3.9.10"
  },
  "orig_nbformat": 4
 },
 "nbformat": 4,
 "nbformat_minor": 2
}
