{
 "cells": [
  {
   "cell_type": "code",
   "execution_count": 8,
   "metadata": {},
   "outputs": [],
   "source": [
    "# Crea un diccionario llamado planet con los datos propuestos\n",
    "#name: Mars\n",
    "#moons: 2\n",
    "\n",
    "planetInfo = {\"name\": \"Mars\", \"moons\": 2} "
   ]
  },
  {
   "cell_type": "code",
   "execution_count": 14,
   "metadata": {},
   "outputs": [
    {
     "name": "stdout",
     "output_type": "stream",
     "text": [
      "name:Mars. number of moons: 2\n"
     ]
    }
   ],
   "source": [
    "# Muestra el nombre del planeta y el número de lunas que tiene.\n",
    "print(\"name:\" + planetInfo[\"name\"] +\".\"+\" number of moons: \" + str(planetInfo[\"moons\"]))"
   ]
  },
  {
   "cell_type": "code",
   "execution_count": 19,
   "metadata": {},
   "outputs": [
    {
     "name": "stdout",
     "output_type": "stream",
     "text": [
      "nombre: Mars. circunferencia polar: 6752\n"
     ]
    }
   ],
   "source": [
    "# Agrega la clave circunferencia con los datos proporcionados previamente\n",
    "#polar: 6752\n",
    "#equatorial: 6792\n",
    "\n",
    "planetInfo[\"cirucnferencia(km)\"] = {\"polar\": 6752,\"equatorial\": 6792}\n",
    "# Imprime el nombre del planeta con su circunferencia polar.\n",
    "print(\"nombre: \" + planetInfo[\"name\"] +\".\" + \" circunferencia polar: \"+ str(planetInfo[\"cirucnferencia(km)\"][\"polar\"])) "
   ]
  },
  {
   "cell_type": "code",
   "execution_count": 28,
   "metadata": {},
   "outputs": [
    {
     "name": "stdout",
     "output_type": "stream",
     "text": [
      "17.833333333333332\n"
     ]
    }
   ],
   "source": [
    "# Planets and moons\n",
    "\n",
    "planet_moons = {\n",
    "    'mercury': 0,\n",
    "    'venus': 0,\n",
    "    'earth': 1,\n",
    "    'mars': 2,\n",
    "    'jupiter': 79,\n",
    "    'saturn': 82,\n",
    "    'uranus': 27,\n",
    "    'neptune': 14,\n",
    "    'pluto': 5,\n",
    "    'haumea': 2,\n",
    "    'makemake': 1,\n",
    "    'eris': 1\n",
    "}\n",
    "\n",
    "\n",
    "\n",
    "# Añade el código para determinar el número de lunas.\n",
    "\n",
    "moons = planet_moons.values()\n",
    "planets = len(planet_moons.keys())\n",
    "# Añade el código para determinar el número de lunas.\n",
    "total_moons = 0\n",
    "for moon in moons:\n",
    "    total_moons += moon\n",
    "\n",
    "print(total_moons / planets)"
   ]
  }
 ],
 "metadata": {
  "interpreter": {
   "hash": "888a725ea54d8a99c14e4cfbabe70bcba6b39427fa08860230f3a6680cc1caad"
  },
  "kernelspec": {
   "display_name": "Python 3.9.10 64-bit (windows store)",
   "language": "python",
   "name": "python3"
  },
  "language_info": {
   "codemirror_mode": {
    "name": "ipython",
    "version": 3
   },
   "file_extension": ".py",
   "mimetype": "text/x-python",
   "name": "python",
   "nbconvert_exporter": "python",
   "pygments_lexer": "ipython3",
   "version": "3.9.10"
  },
  "orig_nbformat": 4
 },
 "nbformat": 4,
 "nbformat_minor": 2
}
