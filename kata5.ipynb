{
 "cells": [
  {
   "cell_type": "code",
   "execution_count": 2,
   "metadata": {},
   "outputs": [
    {
     "name": "stdout",
     "output_type": "stream",
     "text": [
      "628949330\n",
      "390577533.93\n"
     ]
    }
   ],
   "source": [
    "# Crear variables para almacenar las dos distancias\n",
    "# ¡Asegúrate de quitar las comas!\n",
    "\n",
    "distanciaTierra = 149597870\n",
    "distanciaJupiter = 778547200\n",
    "factorMillas = 0.621\n",
    "\n",
    "separacion = abs(distanciaJupiter - distanciaTierra)\n",
    "print(separacion)\n",
    "\n",
    "millas = separacion * factorMillas\n",
    "print(millas)"
   ]
  },
  {
   "cell_type": "code",
   "execution_count": 5,
   "metadata": {},
   "outputs": [
    {
     "name": "stdout",
     "output_type": "stream",
     "text": [
      "la distancia en millas es 31236300.0\n"
     ]
    }
   ],
   "source": [
    "# Almacenar las entradas del usuario\n",
    "#Pista: variable = input(\"¿Cuál es tu nombre?\")\n",
    "# Convierte las cadenas de ambos planetas a números enteros\n",
    "\n",
    "distancia_1 = int(input(\"ingresa la distancia del primer planeta\"))\n",
    "\n",
    "distancia_2 = int(input(\"ingresa la distancia del segundo planeta\"))\n",
    "\n",
    "# Realizar el cálculo y determinar el valor absoluto\n",
    "# Convertir de KM a Millas\n",
    "\n",
    "\n",
    "distacia = abs(distancia_1 - distancia_2)\n",
    "print(\"la distancia en millas es \" + str(distacia * factorMillas))\n"
   ]
  }
 ],
 "metadata": {
  "interpreter": {
   "hash": "888a725ea54d8a99c14e4cfbabe70bcba6b39427fa08860230f3a6680cc1caad"
  },
  "kernelspec": {
   "display_name": "Python 3.9.10 64-bit (windows store)",
   "language": "python",
   "name": "python3"
  },
  "language_info": {
   "codemirror_mode": {
    "name": "ipython",
    "version": 3
   },
   "file_extension": ".py",
   "mimetype": "text/x-python",
   "name": "python",
   "nbconvert_exporter": "python",
   "pygments_lexer": "ipython3",
   "version": "3.9.10"
  },
  "orig_nbformat": 4
 },
 "nbformat": 4,
 "nbformat_minor": 2
}
